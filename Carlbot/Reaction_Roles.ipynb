{
 "cells": [
  {
   "cell_type": "markdown",
   "metadata": {},
   "source": [
    "## Add multiple reaction roles"
   ]
  },
  {
   "cell_type": "code",
   "execution_count": 1,
   "metadata": {},
   "outputs": [],
   "source": [
    "import pyperclip"
   ]
  },
  {
   "cell_type": "code",
   "execution_count": 2,
   "metadata": {},
   "outputs": [],
   "source": [
    "command = \"!rr addmany\"\n",
    "\n",
    "message_id = \"1320232551339524176\"\n",
    "\n",
    "Roles = [\n",
    "\"@SF Alpha\",\n",
    "\"@SF Super Turbo\",\n",
    "\"@SF Third Strike\",\n",
    "\"@Vampire Savior\",\n",
    "# \"@Melty Blood\",\n",
    "\"@MvC2\",\n",
    "\"@CvS2\",\n",
    "\"@Guilty Gear\",\n",
    "\"@DB Fighterz\",\n",
    "\"@Shmup\",\n",
    "\"@Puzzle\",\n",
    "\"@Beat-em-up\"\n",
    "]\n",
    "\n",
    "\n",
    "Emojis = [\n",
    "  \":alpha:\",\n",
    "  \":superturbo:\",\n",
    "  \":thirdstrike:\",\n",
    "  \":vsav:\",\n",
    "  \":mvc2:\",\n",
    "  \":cvs2:\",\n",
    "  \":guiltygear:\",\n",
    "  \":dbfighterz:\",\n",
    "  \":shmup:\",\n",
    "  \":puzzle:\",\n",
    "  \":beatemup:\"\n",
    "]"
   ]
  },
  {
   "cell_type": "code",
   "execution_count": 3,
   "metadata": {},
   "outputs": [],
   "source": [
    "my_dict = {k: v for k, v in zip(Roles, Emojis)}\n",
    "\n",
    "prefix_command = f\"{command} {message_id} \"\n",
    "pairs = '\\n '.join([f\"{value} {key}\" for key, value in my_dict.items()])"
   ]
  },
  {
   "cell_type": "code",
   "execution_count": 4,
   "metadata": {},
   "outputs": [
    {
     "name": "stdout",
     "output_type": "stream",
     "text": [
      "!rr addmany 1320232551339524176 \n",
      ":alpha: @SF Alpha\n",
      " :superturbo: @SF Super Turbo\n",
      " :thirdstrike: @SF Third Strike\n",
      " :vsav: @Vampire Savior\n",
      " :mvc2: @MvC2\n",
      " :cvs2: @CvS2\n",
      " :guiltygear: @Guilty Gear\n",
      " :dbfighterz: @DB Fighterz\n",
      " :shmup: @Shmup\n",
      " :puzzle: @Puzzle\n",
      " :beatemup: @Beat-em-up\n"
     ]
    }
   ],
   "source": [
    "print(prefix_command)\n",
    "print(pairs)"
   ]
  },
  {
   "cell_type": "code",
   "execution_count": 5,
   "metadata": {},
   "outputs": [],
   "source": [
    "Space = \"\\n\"\n",
    "Test_command = f\"{command} {message_id} :superturbo: @SF Super Turbo \\n :Alpha: @SF Alpha\"\n"
   ]
  },
  {
   "cell_type": "code",
   "execution_count": 6,
   "metadata": {},
   "outputs": [
    {
     "name": "stdout",
     "output_type": "stream",
     "text": [
      "!rr addmany 1320232551339524176 :superturbo: @SF Super Turbo \n",
      " :Alpha: @SF Alpha\n"
     ]
    }
   ],
   "source": [
    "print(Test_command)\n",
    "pyperclip.copy(Test_command)"
   ]
  },
  {
   "cell_type": "code",
   "execution_count": 7,
   "metadata": {},
   "outputs": [],
   "source": [
    "final_command = prefix_command + pairs\n",
    "\n",
    "pyperclip.copy(final_command)"
   ]
  }
 ],
 "metadata": {
  "kernelspec": {
   "display_name": "C:\\Users\\R3Z\\.virtualenvs\\venv_AWS_Restore",
   "language": "python",
   "name": "python3"
  },
  "language_info": {
   "codemirror_mode": {
    "name": "ipython",
    "version": 3
   },
   "file_extension": ".py",
   "mimetype": "text/x-python",
   "name": "python",
   "nbconvert_exporter": "python",
   "pygments_lexer": "ipython3",
   "version": "3.12.5"
  }
 },
 "nbformat": 4,
 "nbformat_minor": 2
}
