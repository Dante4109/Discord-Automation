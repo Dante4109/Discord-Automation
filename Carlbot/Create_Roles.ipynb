{
 "cells": [
  {
   "cell_type": "markdown",
   "metadata": {},
   "source": [
    "## Add multiple roles"
   ]
  },
  {
   "cell_type": "code",
   "execution_count": 17,
   "metadata": {},
   "outputs": [],
   "source": [
    "import pyperclip"
   ]
  },
  {
   "cell_type": "code",
   "execution_count": 18,
   "metadata": {},
   "outputs": [],
   "source": [
    "command = \"!role create\"\n",
    "mentionable = \"false\"\n",
    "hoist = \"true\"\n",
    "color = \"#FF0000\"\n",
    "\n",
    "roles = [\n",
    "\"CT\",\n",
    "\"ME\",\n",
    "\"MD\",\n",
    "\"MA\",\n",
    "\"NH\",\n",
    "\"NJ\",\n",
    "\"PA\",\n",
    "\"RI\",\n",
    "\"VT\",\n",
    "\"VA\",\n",
    "\"NY\"\n",
    "]\n"
   ]
  },
  {
   "cell_type": "code",
   "execution_count": 19,
   "metadata": {},
   "outputs": [
    {
     "name": "stdout",
     "output_type": "stream",
     "text": [
      "!role create CT #FF0000 false true\n",
      "!role create ME #FF0000 false true\n",
      "!role create MD #FF0000 false true\n",
      "!role create MA #FF0000 false true\n",
      "!role create NH #FF0000 false true\n",
      "!role create NJ #FF0000 false true\n",
      "!role create PA #FF0000 false true\n",
      "!role create RI #FF0000 false true\n",
      "!role create VT #FF0000 false true\n",
      "!role create VA #FF0000 false true\n",
      "!role create NY #FF0000 false true\n"
     ]
    }
   ],
   "source": [
    "\n",
    "role_commands = \"\\n\".join([f\"{command} {role} {color} {mentionable} {hoist}\" for role in roles])\n",
    "print(role_commands)\n",
    "pyperclip.copy(role_commands)"
   ]
  }
 ],
 "metadata": {
  "kernelspec": {
   "display_name": "venv_DA_PythonPractice",
   "language": "python",
   "name": "python3"
  },
  "language_info": {
   "codemirror_mode": {
    "name": "ipython",
    "version": 3
   },
   "file_extension": ".py",
   "mimetype": "text/x-python",
   "name": "python",
   "nbconvert_exporter": "python",
   "pygments_lexer": "ipython3",
   "version": "3.13.0"
  }
 },
 "nbformat": 4,
 "nbformat_minor": 2
}
