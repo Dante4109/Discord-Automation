{
 "cells": [
  {
   "cell_type": "markdown",
   "metadata": {},
   "source": [
    "## Add multiple reaction roless | states"
   ]
  },
  {
   "cell_type": "code",
   "execution_count": 29,
   "metadata": {},
   "outputs": [],
   "source": [
    "import pyperclip"
   ]
  },
  {
   "cell_type": "code",
   "execution_count": 30,
   "metadata": {},
   "outputs": [],
   "source": [
    "command = \"!rr addmany\"\n",
    "\n",
    "message_id = \"1322352005221711893\"\n",
    "\n",
    "Roles = [\n",
    "\"@CT\",\n",
    "\"@ME\",\n",
    "\"@MD\",\n",
    "\"@MA\",\n",
    "\"@NH\",\n",
    "\"@NJ\",\n",
    "\"@PA\",\n",
    "\"@RI\",\n",
    "\"@VT\",\n",
    "\"@VA\",\n",
    "\"@NY\"\n",
    "]\n",
    "\n",
    "\n",
    "Emojis = [\n",
    "\":CT:\",\n",
    "\":ME:\",\n",
    "\":MD:\",\n",
    "\":MA:\",\n",
    "\":NH:\",\n",
    "\":NJ:\",\n",
    "\":PA:\",\n",
    "\":RI:\",\n",
    "\":VT:\",\n",
    "\":VA:\",\n",
    "\":NY:\"\n",
    "]"
   ]
  },
  {
   "cell_type": "code",
   "execution_count": 31,
   "metadata": {},
   "outputs": [],
   "source": [
    "my_dict = {k: v for k, v in zip(Roles, Emojis)}\n",
    "\n",
    "prefix_command = f\"{command} {message_id} \"\n",
    "pairs = '\\n '.join([f\"{value} {key}\" for key, value in my_dict.items()])"
   ]
  },
  {
   "cell_type": "code",
   "execution_count": 32,
   "metadata": {},
   "outputs": [
    {
     "name": "stdout",
     "output_type": "stream",
     "text": [
      "!rr addmany 1322352005221711893 \n",
      ":CT: @CT\n",
      " :ME: @ME\n",
      " :MD: @MD\n",
      " :MA: @MA\n",
      " :NH: @NH\n",
      " :NJ: @NJ\n",
      " :PA: @PA\n",
      " :RI: @RI\n",
      " :VT: @VT\n",
      " :VA: @VA\n",
      " :NY: @NY\n"
     ]
    }
   ],
   "source": [
    "print(prefix_command)\n",
    "print(pairs)"
   ]
  },
  {
   "cell_type": "code",
   "execution_count": 33,
   "metadata": {},
   "outputs": [],
   "source": [
    "Space = \"\\n\"\n",
    "Test_command = f\"{command} {message_id} :superturbo: @SF Super Turbo \\n :Alpha: @SF Alpha\"\n"
   ]
  },
  {
   "cell_type": "code",
   "execution_count": 34,
   "metadata": {},
   "outputs": [
    {
     "name": "stdout",
     "output_type": "stream",
     "text": [
      "!rr addmany 1322352005221711893 :superturbo: @SF Super Turbo \n",
      " :Alpha: @SF Alpha\n"
     ]
    }
   ],
   "source": [
    "print(Test_command)\n",
    "pyperclip.copy(Test_command)"
   ]
  },
  {
   "cell_type": "code",
   "execution_count": 35,
   "metadata": {},
   "outputs": [],
   "source": [
    "final_command = prefix_command + pairs\n",
    "\n",
    "pyperclip.copy(final_command)"
   ]
  }
 ],
 "metadata": {
  "kernelspec": {
   "display_name": "venv_DA_PythonPractice",
   "language": "python",
   "name": "python3"
  },
  "language_info": {
   "codemirror_mode": {
    "name": "ipython",
    "version": 3
   },
   "file_extension": ".py",
   "mimetype": "text/x-python",
   "name": "python",
   "nbconvert_exporter": "python",
   "pygments_lexer": "ipython3",
   "version": "3.13.0"
  }
 },
 "nbformat": 4,
 "nbformat_minor": 2
}
